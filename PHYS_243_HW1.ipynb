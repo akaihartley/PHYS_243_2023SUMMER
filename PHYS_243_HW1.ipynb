{
 "cells": [
  {
   "attachments": {},
   "cell_type": "markdown",
   "metadata": {},
   "source": [
    "Problem 1: Python Programming"
   ]
  },
  {
   "attachments": {},
   "cell_type": "markdown",
   "metadata": {},
   "source": [
    "Part 1: Rewrite the function with for loop."
   ]
  },
  {
   "cell_type": "code",
   "execution_count": 4,
   "metadata": {},
   "outputs": [
    {
     "name": "stdout",
     "output_type": "stream",
     "text": [
      "6765\n"
     ]
    }
   ],
   "source": [
    "def fib_loop(n):\n",
    "    #sets variable a and b as 0 and 1 to start off the sequence\n",
    "    a, b = 0, 1\n",
    "    for i in range(n):\n",
    "        #a becomes b and b is the output of a+b. \n",
    "        a, b = b, a + b\n",
    "    return(a)\n",
    "\n",
    "print(fib_loop(20))"
   ]
  },
  {
   "attachments": {},
   "cell_type": "markdown",
   "metadata": {},
   "source": [
    "Part 2: Which function is actually faster? (Explain without running the codes)"
   ]
  },
  {
   "attachments": {},
   "cell_type": "markdown",
   "metadata": {},
   "source": [
    "The function with the for loop is faster because the recursive function will repeat computing for the same value to get to n. EX: Computing Fib_rec(10) will compute Fib_rec(9) & Fib_rec(8), but then when computing Fib_rec(9) it will compute Fib_rec(8) & Fib_rec(7). The for loop function does not do this because it computes each number only once by storing the results as a variable. "
   ]
  },
  {
   "attachments": {},
   "cell_type": "markdown",
   "metadata": {},
   "source": [
    "Part 3: Write a code to find the average time for k times function call. A function that\n",
    "takes three arguments (function to time (Fib rec), input of the function (n), number\n",
    "of runs(k)) and run the Fib rec function k times for the input of n and returns the\n",
    "average time (Algorithm 3). Tip: You can use the time module in the python:"
   ]
  },
  {
   "cell_type": "code",
   "execution_count": 2,
   "metadata": {},
   "outputs": [
    {
     "name": "stdout",
     "output_type": "stream",
     "text": [
      "1.0454504489898682\n"
     ]
    }
   ],
   "source": [
    "import time \n",
    "\n",
    "def fib_loop(n):\n",
    "    a, b = 0, 1\n",
    "    for i in range(n):\n",
    "        a, b = b, a + b\n",
    "    return(a)\n",
    "\n",
    "def Fib_rec(n):\n",
    "    if n==0:\n",
    "        return 0\n",
    "    elif n==1:\n",
    "        return 1\n",
    "    else:\n",
    "        return Fib_rec(n-1)+Fib_rec(n-2)\n",
    "\n",
    "r = Fib_rec\n",
    "l = fib_loop\n",
    "\n",
    "def timer(n, k, f):\n",
    "    start_time = time.time()\n",
    "    for i in range(k):\n",
    "        f(n)\n",
    "    end_time = time.time()\n",
    "    #total time/number of runs\n",
    "    average_time = (end_time - start_time)/k\n",
    "    return average_time\n",
    "\n",
    "print(timer(35, 10, r))"
   ]
  },
  {
   "attachments": {},
   "cell_type": "markdown",
   "metadata": {},
   "source": [
    "Part 4: Make a plot in which the x-axis is the value of the input function n and the\n",
    "y-axis is the average time (output of the previous function), for both recursive and non-\n",
    "recursive Fibonacci. (Both in the same plot; also use matplotlib package for making\n",
    "the plots)"
   ]
  },
  {
   "cell_type": "code",
   "execution_count": 5,
   "metadata": {},
   "outputs": [
    {
     "data": {
      "image/png": "[encoded data removed]",
      "text/plain": [
       "<Figure size 640x480 with 1 Axes>"
      ]
     },
     "metadata": {},
     "output_type": "display_data"
    }
   ],
   "source": [
    "import matplotlib.pyplot as plt\n",
    "import time \n",
    "\n",
    "def fib_loop(n):\n",
    "    a, b = 0, 1\n",
    "    for i in range(n):\n",
    "        a, b = b, a + b\n",
    "    return(a)\n",
    "\n",
    "def Fib_rec(n):\n",
    "    if n==0:\n",
    "        return 0\n",
    "    elif n==1:\n",
    "        return 1\n",
    "    else:\n",
    "        return Fib_rec(n-1)+Fib_rec(n-2)\n",
    "    \n",
    "r = Fib_rec\n",
    "l = fib_loop\n",
    "\n",
    "def timer(n, k, f):\n",
    "    start_time = time.time()\n",
    "    for i in range(k):\n",
    "        f(n)\n",
    "    end_time = time.time()\n",
    "    average_time = (end_time - start_time)/k\n",
    "    return average_time\n",
    "\n",
    "#creating a list to store the values of fib_loop, fib_rec, and n\n",
    "n_list = list(range(40))\n",
    "r_time = []\n",
    "l_time = []\n",
    "\n",
    "#appending each function's values into the list\n",
    "for n in n_list:\n",
    "    r_time.append(timer(n, 1, r))\n",
    "    l_time.append(timer(n, 1, l))\n",
    "\n",
    "plt.plot(n_list, r_time, label='recursive', color='green', marker='+')\n",
    "plt.plot(n_list, l_time, label='non-recursive', color='blue', marker='1')\n",
    "plt.xlabel('n')\n",
    "plt.ylabel('Time in seconds')\n",
    "plt.legend()\n",
    "plt.show()\n",
    "\n"
   ]
  },
  {
   "cell_type": "code",
   "execution_count": null,
   "metadata": {},
   "outputs": [],
   "source": []
  }
 ],
 "metadata": {
  "kernelspec": {
   "display_name": "Python 3",
   "language": "python",
   "name": "python3"
  },
  "language_info": {
   "codemirror_mode": {
    "name": "ipython",
    "version": 3
   },
   "file_extension": ".py",
   "mimetype": "text/x-python",
   "name": "python",
   "nbconvert_exporter": "python",
   "pygments_lexer": "ipython3",
   "version": "3.11.4"
  },
  "orig_nbformat": 4
 },
 "nbformat": 4,
 "nbformat_minor": 2
}
